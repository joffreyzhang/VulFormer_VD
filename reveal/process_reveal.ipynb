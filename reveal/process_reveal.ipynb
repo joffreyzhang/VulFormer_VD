{
 "cells": [
  {
   "cell_type": "code",
   "execution_count": 2,
   "metadata": {},
   "outputs": [
    {
     "name": "stdout",
     "output_type": "stream",
     "text": [
      "Ratio of dropped functions: 0.0\n"
     ]
    }
   ],
   "source": [
    "import json\n",
    "\n",
    "def remove_blank_lines(text):\n",
    "    # Split the text into lines, remove blank lines, and rejoin the lines\n",
    "    return '\\n'.join(line for line in text.splitlines() if line.strip())\n",
    "\n",
    "def process_functions(json_file_path):\n",
    "    with open(json_file_path, 'r') as file:\n",
    "        data = json.load(file)\n",
    "\n",
    "    total_funcs = 0\n",
    "    dropped_funcs = 0\n",
    "\n",
    "    for idx, entry in enumerate(data, start=1):\n",
    "        func_content = entry.get(\"code\", \"\")\n",
    "        remove_blank_lines(func_content)\n",
    "        line_count = func_content.count('\\n\\n') + 1  # +1 for the last line if it doesn't end with a newline\n",
    "\n",
    "        if line_count > 100:\n",
    "            dropped_funcs += 1\n",
    "            continue\n",
    "        idx = idx +2240\n",
    "\n",
    "        with open(f\"{idx}.c\", 'w') as c_file:\n",
    "            c_file.write(func_content)\n",
    "\n",
    "        total_funcs += 1\n",
    "\n",
    "    dropped_ratio = dropped_funcs / total_funcs if total_funcs > 0 else 0\n",
    "    return dropped_ratio\n",
    "\n",
    "\n",
    "ratio = process_functions(\"./non-vulnerables.json\")\n",
    "print(f\"Ratio of dropped functions: {ratio}\")\n"
   ]
  }
 ],
 "metadata": {
  "kernelspec": {
   "display_name": "base",
   "language": "python",
   "name": "python3"
  },
  "language_info": {
   "codemirror_mode": {
    "name": "ipython",
    "version": 3
   },
   "file_extension": ".py",
   "mimetype": "text/x-python",
   "name": "python",
   "nbconvert_exporter": "python",
   "pygments_lexer": "ipython3",
   "version": "3.9.12"
  }
 },
 "nbformat": 4,
 "nbformat_minor": 2
}
